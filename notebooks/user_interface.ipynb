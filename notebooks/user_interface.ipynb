{
 "cells": [
  {
   "cell_type": "code",
   "execution_count": 3,
   "metadata": {},
   "outputs": [
    {
     "name": "stderr",
     "output_type": "stream",
     "text": [
      "/Users/arturopolancolozano/opt/anaconda3/lib/python3.9/site-packages/gradio/utils.py:812: UserWarning: Expected 0 arguments for function <function annotate_detected_vehicles at 0x7fecb9646700>, received 1.\n",
      "  warnings.warn(\n",
      "/Users/arturopolancolozano/opt/anaconda3/lib/python3.9/site-packages/gradio/utils.py:820: UserWarning: Expected maximum 0 arguments for function <function annotate_detected_vehicles at 0x7fecb9646700>, received 1.\n",
      "  warnings.warn(\n"
     ]
    },
    {
     "name": "stdout",
     "output_type": "stream",
     "text": [
      "Running on local URL:  http://127.0.0.1:7861\n",
      "\n",
      "To create a public link, set `share=True` in `launch()`.\n"
     ]
    },
    {
     "data": {
      "text/html": [
       "<div><iframe src=\"http://127.0.0.1:7861/\" width=\"100%\" height=\"500\" allow=\"autoplay; camera; microphone; clipboard-read; clipboard-write;\" frameborder=\"0\" allowfullscreen></iframe></div>"
      ],
      "text/plain": [
       "<IPython.core.display.HTML object>"
      ]
     },
     "metadata": {},
     "output_type": "display_data"
    },
    {
     "data": {
      "text/plain": []
     },
     "execution_count": 3,
     "metadata": {},
     "output_type": "execute_result"
    }
   ],
   "source": [
    "import gradio as gr\n",
    "\n",
    "\n",
    "def annotate_detected_vehicles():\n",
    "    pass \n",
    "\n",
    "\n",
    "input_image = [\n",
    "    gr.components.Image(\n",
    "        type=\"filepath\", \n",
    "        label = \"Input Image\")\n",
    "]\n",
    "\n",
    "output_image = [\n",
    "    gr.components.Image(\n",
    "        type=\"numpy\", \n",
    "        label = \"Output Image\")\n",
    "]\n",
    "\n",
    "interface = gr.Interface(\n",
    "    fn= annotate_detected_vehicles, \n",
    "    inputs = input_image, \n",
    "    outputs = output_image, \n",
    "    title = \"Vehicle Detection & Counting\"\n",
    ")\n",
    "\n",
    "interface.launch()"
   ]
  },
  {
   "cell_type": "code",
   "execution_count": null,
   "metadata": {},
   "outputs": [],
   "source": []
  }
 ],
 "metadata": {
  "kernelspec": {
   "display_name": "mlops",
   "language": "python",
   "name": "mlops"
  },
  "language_info": {
   "codemirror_mode": {
    "name": "ipython",
    "version": 3
   },
   "file_extension": ".py",
   "mimetype": "text/x-python",
   "name": "python",
   "nbconvert_exporter": "python",
   "pygments_lexer": "ipython3",
   "version": "3.9.12"
  }
 },
 "nbformat": 4,
 "nbformat_minor": 2
}
